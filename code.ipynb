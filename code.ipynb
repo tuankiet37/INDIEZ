{
 "cells": [
  {
   "cell_type": "markdown",
   "metadata": {},
   "source": [
    "# Import library "
   ]
  },
  {
   "cell_type": "code",
   "execution_count": 1,
   "metadata": {},
   "outputs": [],
   "source": [
    "import pandas as pd\n",
    "import matplotlib.pyplot as plt"
   ]
  },
  {
   "cell_type": "markdown",
   "metadata": {},
   "source": [
    "# Load dataset"
   ]
  },
  {
   "cell_type": "code",
   "execution_count": 2,
   "metadata": {},
   "outputs": [],
   "source": [
    "df = pd.read_csv('data_interview.csv')"
   ]
  },
  {
   "cell_type": "markdown",
   "metadata": {},
   "source": [
    "# Dataset overview"
   ]
  },
  {
   "cell_type": "code",
   "execution_count": 3,
   "metadata": {},
   "outputs": [
    {
     "data": {
      "text/html": [
       "<div>\n",
       "<style scoped>\n",
       "    .dataframe tbody tr th:only-of-type {\n",
       "        vertical-align: middle;\n",
       "    }\n",
       "\n",
       "    .dataframe tbody tr th {\n",
       "        vertical-align: top;\n",
       "    }\n",
       "\n",
       "    .dataframe thead th {\n",
       "        text-align: right;\n",
       "    }\n",
       "</style>\n",
       "<table border=\"1\" class=\"dataframe\">\n",
       "  <thead>\n",
       "    <tr style=\"text-align: right;\">\n",
       "      <th></th>\n",
       "      <th>Unnamed: 0</th>\n",
       "      <th>date_time</th>\n",
       "      <th>event_name</th>\n",
       "      <th>level</th>\n",
       "      <th>user</th>\n",
       "      <th>day_diff</th>\n",
       "      <th>day0</th>\n",
       "      <th>mode_game</th>\n",
       "      <th>win</th>\n",
       "      <th>reason_to_die</th>\n",
       "      <th>quantity</th>\n",
       "      <th>version</th>\n",
       "    </tr>\n",
       "  </thead>\n",
       "  <tbody>\n",
       "    <tr>\n",
       "      <th>0</th>\n",
       "      <td>40</td>\n",
       "      <td>2023-10-28</td>\n",
       "      <td>game_start</td>\n",
       "      <td>1</td>\n",
       "      <td>1cffd052-4616-4d29-bfd5-950e23b763d4</td>\n",
       "      <td>0.0</td>\n",
       "      <td>2023-10-28</td>\n",
       "      <td>normal</td>\n",
       "      <td>NaN</td>\n",
       "      <td>NaN</td>\n",
       "      <td>0</td>\n",
       "      <td>1.6.0</td>\n",
       "    </tr>\n",
       "    <tr>\n",
       "      <th>1</th>\n",
       "      <td>41</td>\n",
       "      <td>2023-10-28</td>\n",
       "      <td>game_start</td>\n",
       "      <td>1</td>\n",
       "      <td>1cffd052-4616-4d29-bfd5-950e23b763d4</td>\n",
       "      <td>0.0</td>\n",
       "      <td>2023-10-28</td>\n",
       "      <td>normal</td>\n",
       "      <td>NaN</td>\n",
       "      <td>NaN</td>\n",
       "      <td>0</td>\n",
       "      <td>1.6.0</td>\n",
       "    </tr>\n",
       "    <tr>\n",
       "      <th>2</th>\n",
       "      <td>42</td>\n",
       "      <td>2023-10-28</td>\n",
       "      <td>game_start</td>\n",
       "      <td>2</td>\n",
       "      <td>1cffd052-4616-4d29-bfd5-950e23b763d4</td>\n",
       "      <td>0.0</td>\n",
       "      <td>2023-10-28</td>\n",
       "      <td>normal</td>\n",
       "      <td>NaN</td>\n",
       "      <td>NaN</td>\n",
       "      <td>0</td>\n",
       "      <td>1.6.0</td>\n",
       "    </tr>\n",
       "    <tr>\n",
       "      <th>3</th>\n",
       "      <td>43</td>\n",
       "      <td>2023-10-28</td>\n",
       "      <td>game_start</td>\n",
       "      <td>3</td>\n",
       "      <td>1cffd052-4616-4d29-bfd5-950e23b763d4</td>\n",
       "      <td>0.0</td>\n",
       "      <td>2023-10-28</td>\n",
       "      <td>normal</td>\n",
       "      <td>NaN</td>\n",
       "      <td>NaN</td>\n",
       "      <td>0</td>\n",
       "      <td>1.6.0</td>\n",
       "    </tr>\n",
       "    <tr>\n",
       "      <th>4</th>\n",
       "      <td>44</td>\n",
       "      <td>2023-10-28</td>\n",
       "      <td>game_start</td>\n",
       "      <td>4</td>\n",
       "      <td>1cffd052-4616-4d29-bfd5-950e23b763d4</td>\n",
       "      <td>0.0</td>\n",
       "      <td>2023-10-28</td>\n",
       "      <td>normal</td>\n",
       "      <td>NaN</td>\n",
       "      <td>NaN</td>\n",
       "      <td>0</td>\n",
       "      <td>1.6.0</td>\n",
       "    </tr>\n",
       "    <tr>\n",
       "      <th>5</th>\n",
       "      <td>45</td>\n",
       "      <td>2023-10-30</td>\n",
       "      <td>game_start</td>\n",
       "      <td>5</td>\n",
       "      <td>1cffd052-4616-4d29-bfd5-950e23b763d4</td>\n",
       "      <td>2.0</td>\n",
       "      <td>2023-10-28</td>\n",
       "      <td>normal</td>\n",
       "      <td>NaN</td>\n",
       "      <td>NaN</td>\n",
       "      <td>0</td>\n",
       "      <td>1.6.0</td>\n",
       "    </tr>\n",
       "    <tr>\n",
       "      <th>6</th>\n",
       "      <td>46</td>\n",
       "      <td>2023-10-30</td>\n",
       "      <td>game_start</td>\n",
       "      <td>5</td>\n",
       "      <td>1cffd052-4616-4d29-bfd5-950e23b763d4</td>\n",
       "      <td>2.0</td>\n",
       "      <td>2023-10-28</td>\n",
       "      <td>normal</td>\n",
       "      <td>NaN</td>\n",
       "      <td>NaN</td>\n",
       "      <td>0</td>\n",
       "      <td>1.6.0</td>\n",
       "    </tr>\n",
       "    <tr>\n",
       "      <th>7</th>\n",
       "      <td>47</td>\n",
       "      <td>2023-11-02</td>\n",
       "      <td>game_start</td>\n",
       "      <td>5</td>\n",
       "      <td>1cffd052-4616-4d29-bfd5-950e23b763d4</td>\n",
       "      <td>5.0</td>\n",
       "      <td>2023-10-28</td>\n",
       "      <td>normal</td>\n",
       "      <td>NaN</td>\n",
       "      <td>NaN</td>\n",
       "      <td>0</td>\n",
       "      <td>1.6.0</td>\n",
       "    </tr>\n",
       "    <tr>\n",
       "      <th>8</th>\n",
       "      <td>48</td>\n",
       "      <td>2023-10-28</td>\n",
       "      <td>game_end</td>\n",
       "      <td>1</td>\n",
       "      <td>1cffd052-4616-4d29-bfd5-950e23b763d4</td>\n",
       "      <td>0.0</td>\n",
       "      <td>2023-10-28</td>\n",
       "      <td>normal</td>\n",
       "      <td>0.0</td>\n",
       "      <td>out_of_lives</td>\n",
       "      <td>31</td>\n",
       "      <td>1.6.0</td>\n",
       "    </tr>\n",
       "    <tr>\n",
       "      <th>9</th>\n",
       "      <td>49</td>\n",
       "      <td>2023-10-28</td>\n",
       "      <td>game_end</td>\n",
       "      <td>1</td>\n",
       "      <td>1cffd052-4616-4d29-bfd5-950e23b763d4</td>\n",
       "      <td>0.0</td>\n",
       "      <td>2023-10-28</td>\n",
       "      <td>normal</td>\n",
       "      <td>1.0</td>\n",
       "      <td>NaN</td>\n",
       "      <td>18</td>\n",
       "      <td>1.6.0</td>\n",
       "    </tr>\n",
       "  </tbody>\n",
       "</table>\n",
       "</div>"
      ],
      "text/plain": [
       "   Unnamed: 0   date_time  event_name  level  \\\n",
       "0          40  2023-10-28  game_start      1   \n",
       "1          41  2023-10-28  game_start      1   \n",
       "2          42  2023-10-28  game_start      2   \n",
       "3          43  2023-10-28  game_start      3   \n",
       "4          44  2023-10-28  game_start      4   \n",
       "5          45  2023-10-30  game_start      5   \n",
       "6          46  2023-10-30  game_start      5   \n",
       "7          47  2023-11-02  game_start      5   \n",
       "8          48  2023-10-28    game_end      1   \n",
       "9          49  2023-10-28    game_end      1   \n",
       "\n",
       "                                   user  day_diff        day0 mode_game  win  \\\n",
       "0  1cffd052-4616-4d29-bfd5-950e23b763d4       0.0  2023-10-28    normal  NaN   \n",
       "1  1cffd052-4616-4d29-bfd5-950e23b763d4       0.0  2023-10-28    normal  NaN   \n",
       "2  1cffd052-4616-4d29-bfd5-950e23b763d4       0.0  2023-10-28    normal  NaN   \n",
       "3  1cffd052-4616-4d29-bfd5-950e23b763d4       0.0  2023-10-28    normal  NaN   \n",
       "4  1cffd052-4616-4d29-bfd5-950e23b763d4       0.0  2023-10-28    normal  NaN   \n",
       "5  1cffd052-4616-4d29-bfd5-950e23b763d4       2.0  2023-10-28    normal  NaN   \n",
       "6  1cffd052-4616-4d29-bfd5-950e23b763d4       2.0  2023-10-28    normal  NaN   \n",
       "7  1cffd052-4616-4d29-bfd5-950e23b763d4       5.0  2023-10-28    normal  NaN   \n",
       "8  1cffd052-4616-4d29-bfd5-950e23b763d4       0.0  2023-10-28    normal  0.0   \n",
       "9  1cffd052-4616-4d29-bfd5-950e23b763d4       0.0  2023-10-28    normal  1.0   \n",
       "\n",
       "  reason_to_die  quantity version  \n",
       "0           NaN         0   1.6.0  \n",
       "1           NaN         0   1.6.0  \n",
       "2           NaN         0   1.6.0  \n",
       "3           NaN         0   1.6.0  \n",
       "4           NaN         0   1.6.0  \n",
       "5           NaN         0   1.6.0  \n",
       "6           NaN         0   1.6.0  \n",
       "7           NaN         0   1.6.0  \n",
       "8  out_of_lives        31   1.6.0  \n",
       "9           NaN        18   1.6.0  "
      ]
     },
     "execution_count": 3,
     "metadata": {},
     "output_type": "execute_result"
    }
   ],
   "source": [
    "df.head(10)"
   ]
  },
  {
   "cell_type": "code",
   "execution_count": 4,
   "metadata": {},
   "outputs": [
    {
     "name": "stdout",
     "output_type": "stream",
     "text": [
      "Data shape:  (798332, 12)\n"
     ]
    }
   ],
   "source": [
    "print(\"Data shape: \", df.shape)"
   ]
  },
  {
   "cell_type": "code",
   "execution_count": 5,
   "metadata": {},
   "outputs": [
    {
     "name": "stdout",
     "output_type": "stream",
     "text": [
      "<class 'pandas.core.frame.DataFrame'>\n",
      "RangeIndex: 798332 entries, 0 to 798331\n",
      "Data columns (total 12 columns):\n",
      " #   Column         Non-Null Count   Dtype  \n",
      "---  ------         --------------   -----  \n",
      " 0   Unnamed: 0     798332 non-null  int64  \n",
      " 1   date_time      798332 non-null  object \n",
      " 2   event_name     798332 non-null  object \n",
      " 3   level          798332 non-null  int64  \n",
      " 4   user           798332 non-null  object \n",
      " 5   day_diff       798332 non-null  float64\n",
      " 6   day0           798332 non-null  object \n",
      " 7   mode_game      798332 non-null  object \n",
      " 8   win            243697 non-null  float64\n",
      " 9   reason_to_die  117413 non-null  object \n",
      " 10  quantity       798332 non-null  int64  \n",
      " 11  version        798332 non-null  object \n",
      "dtypes: float64(2), int64(3), object(7)\n",
      "memory usage: 73.1+ MB\n"
     ]
    }
   ],
   "source": [
    "df.info()"
   ]
  },
  {
   "cell_type": "code",
   "execution_count": 6,
   "metadata": {},
   "outputs": [
    {
     "data": {
      "text/plain": [
       "Index(['Unnamed: 0', 'date_time', 'event_name', 'level', 'user', 'day_diff',\n",
       "       'day0', 'mode_game', 'win', 'reason_to_die', 'quantity', 'version'],\n",
       "      dtype='object')"
      ]
     },
     "execution_count": 6,
     "metadata": {},
     "output_type": "execute_result"
    }
   ],
   "source": [
    "df.columns"
   ]
  },
  {
   "cell_type": "code",
   "execution_count": 7,
   "metadata": {},
   "outputs": [
    {
     "data": {
      "text/html": [
       "<div>\n",
       "<style scoped>\n",
       "    .dataframe tbody tr th:only-of-type {\n",
       "        vertical-align: middle;\n",
       "    }\n",
       "\n",
       "    .dataframe tbody tr th {\n",
       "        vertical-align: top;\n",
       "    }\n",
       "\n",
       "    .dataframe thead th {\n",
       "        text-align: right;\n",
       "    }\n",
       "</style>\n",
       "<table border=\"1\" class=\"dataframe\">\n",
       "  <thead>\n",
       "    <tr style=\"text-align: right;\">\n",
       "      <th></th>\n",
       "      <th>Unnamed: 0</th>\n",
       "      <th>level</th>\n",
       "      <th>day_diff</th>\n",
       "      <th>win</th>\n",
       "      <th>quantity</th>\n",
       "    </tr>\n",
       "  </thead>\n",
       "  <tbody>\n",
       "    <tr>\n",
       "      <th>count</th>\n",
       "      <td>7.983320e+05</td>\n",
       "      <td>798332.000000</td>\n",
       "      <td>798332.000000</td>\n",
       "      <td>243697.000000</td>\n",
       "      <td>798332.000000</td>\n",
       "    </tr>\n",
       "    <tr>\n",
       "      <th>mean</th>\n",
       "      <td>2.453789e+06</td>\n",
       "      <td>22.252668</td>\n",
       "      <td>0.999837</td>\n",
       "      <td>0.518201</td>\n",
       "      <td>14.797696</td>\n",
       "    </tr>\n",
       "    <tr>\n",
       "      <th>std</th>\n",
       "      <td>1.408433e+06</td>\n",
       "      <td>42.809470</td>\n",
       "      <td>1.712700</td>\n",
       "      <td>0.499670</td>\n",
       "      <td>54.181532</td>\n",
       "    </tr>\n",
       "    <tr>\n",
       "      <th>min</th>\n",
       "      <td>4.000000e+01</td>\n",
       "      <td>1.000000</td>\n",
       "      <td>0.000000</td>\n",
       "      <td>0.000000</td>\n",
       "      <td>-2.000000</td>\n",
       "    </tr>\n",
       "    <tr>\n",
       "      <th>25%</th>\n",
       "      <td>1.243709e+06</td>\n",
       "      <td>3.000000</td>\n",
       "      <td>0.000000</td>\n",
       "      <td>0.000000</td>\n",
       "      <td>0.000000</td>\n",
       "    </tr>\n",
       "    <tr>\n",
       "      <th>50%</th>\n",
       "      <td>2.470328e+06</td>\n",
       "      <td>9.000000</td>\n",
       "      <td>0.000000</td>\n",
       "      <td>1.000000</td>\n",
       "      <td>0.000000</td>\n",
       "    </tr>\n",
       "    <tr>\n",
       "      <th>75%</th>\n",
       "      <td>3.570308e+06</td>\n",
       "      <td>21.000000</td>\n",
       "      <td>1.000000</td>\n",
       "      <td>1.000000</td>\n",
       "      <td>12.000000</td>\n",
       "    </tr>\n",
       "    <tr>\n",
       "      <th>max</th>\n",
       "      <td>7.957952e+06</td>\n",
       "      <td>519.000000</td>\n",
       "      <td>7.000000</td>\n",
       "      <td>1.000000</td>\n",
       "      <td>15642.000000</td>\n",
       "    </tr>\n",
       "  </tbody>\n",
       "</table>\n",
       "</div>"
      ],
      "text/plain": [
       "         Unnamed: 0          level       day_diff            win  \\\n",
       "count  7.983320e+05  798332.000000  798332.000000  243697.000000   \n",
       "mean   2.453789e+06      22.252668       0.999837       0.518201   \n",
       "std    1.408433e+06      42.809470       1.712700       0.499670   \n",
       "min    4.000000e+01       1.000000       0.000000       0.000000   \n",
       "25%    1.243709e+06       3.000000       0.000000       0.000000   \n",
       "50%    2.470328e+06       9.000000       0.000000       1.000000   \n",
       "75%    3.570308e+06      21.000000       1.000000       1.000000   \n",
       "max    7.957952e+06     519.000000       7.000000       1.000000   \n",
       "\n",
       "            quantity  \n",
       "count  798332.000000  \n",
       "mean       14.797696  \n",
       "std        54.181532  \n",
       "min        -2.000000  \n",
       "25%         0.000000  \n",
       "50%         0.000000  \n",
       "75%        12.000000  \n",
       "max     15642.000000  "
      ]
     },
     "execution_count": 7,
     "metadata": {},
     "output_type": "execute_result"
    }
   ],
   "source": [
    "df.describe()"
   ]
  },
  {
   "cell_type": "code",
   "execution_count": 8,
   "metadata": {},
   "outputs": [
    {
     "name": "stdout",
     "output_type": "stream",
     "text": [
      "Data is duplicated:  False\n"
     ]
    }
   ],
   "source": [
    "print(\"Data is duplicated: \",df.duplicated().any())"
   ]
  },
  {
   "cell_type": "code",
   "execution_count": 9,
   "metadata": {},
   "outputs": [
    {
     "name": "stdout",
     "output_type": "stream",
     "text": [
      "THE NUMBER OF UNIQUE VALUES BY COLUMNS:\n"
     ]
    },
    {
     "data": {
      "text/plain": [
       "Unnamed: 0       798332\n",
       "date_time            14\n",
       "event_name            4\n",
       "level               519\n",
       "user              13584\n",
       "day_diff              8\n",
       "day0                  7\n",
       "mode_game             4\n",
       "win                   2\n",
       "reason_to_die         2\n",
       "quantity           1038\n",
       "version               2\n",
       "dtype: int64"
      ]
     },
     "execution_count": 9,
     "metadata": {},
     "output_type": "execute_result"
    }
   ],
   "source": [
    "print(\"THE NUMBER OF UNIQUE VALUES BY COLUMNS:\")\n",
    "df.nunique()"
   ]
  },
  {
   "cell_type": "code",
   "execution_count": 10,
   "metadata": {},
   "outputs": [
    {
     "data": {
      "text/html": [
       "<div>\n",
       "<style scoped>\n",
       "    .dataframe tbody tr th:only-of-type {\n",
       "        vertical-align: middle;\n",
       "    }\n",
       "\n",
       "    .dataframe tbody tr th {\n",
       "        vertical-align: top;\n",
       "    }\n",
       "\n",
       "    .dataframe thead th {\n",
       "        text-align: right;\n",
       "    }\n",
       "</style>\n",
       "<table border=\"1\" class=\"dataframe\">\n",
       "  <thead>\n",
       "    <tr style=\"text-align: right;\">\n",
       "      <th></th>\n",
       "      <th>Feature</th>\n",
       "      <th>Missing Value (%)</th>\n",
       "    </tr>\n",
       "  </thead>\n",
       "  <tbody>\n",
       "    <tr>\n",
       "      <th>Unnamed: 0</th>\n",
       "      <td>Unnamed: 0</td>\n",
       "      <td>0.000000</td>\n",
       "    </tr>\n",
       "    <tr>\n",
       "      <th>date_time</th>\n",
       "      <td>date_time</td>\n",
       "      <td>0.000000</td>\n",
       "    </tr>\n",
       "    <tr>\n",
       "      <th>event_name</th>\n",
       "      <td>event_name</td>\n",
       "      <td>0.000000</td>\n",
       "    </tr>\n",
       "    <tr>\n",
       "      <th>level</th>\n",
       "      <td>level</td>\n",
       "      <td>0.000000</td>\n",
       "    </tr>\n",
       "    <tr>\n",
       "      <th>user</th>\n",
       "      <td>user</td>\n",
       "      <td>0.000000</td>\n",
       "    </tr>\n",
       "    <tr>\n",
       "      <th>day_diff</th>\n",
       "      <td>day_diff</td>\n",
       "      <td>0.000000</td>\n",
       "    </tr>\n",
       "    <tr>\n",
       "      <th>day0</th>\n",
       "      <td>day0</td>\n",
       "      <td>0.000000</td>\n",
       "    </tr>\n",
       "    <tr>\n",
       "      <th>mode_game</th>\n",
       "      <td>mode_game</td>\n",
       "      <td>0.000000</td>\n",
       "    </tr>\n",
       "    <tr>\n",
       "      <th>win</th>\n",
       "      <td>win</td>\n",
       "      <td>69.474229</td>\n",
       "    </tr>\n",
       "    <tr>\n",
       "      <th>reason_to_die</th>\n",
       "      <td>reason_to_die</td>\n",
       "      <td>85.292710</td>\n",
       "    </tr>\n",
       "    <tr>\n",
       "      <th>quantity</th>\n",
       "      <td>quantity</td>\n",
       "      <td>0.000000</td>\n",
       "    </tr>\n",
       "    <tr>\n",
       "      <th>version</th>\n",
       "      <td>version</td>\n",
       "      <td>0.000000</td>\n",
       "    </tr>\n",
       "  </tbody>\n",
       "</table>\n",
       "</div>"
      ],
      "text/plain": [
       "                     Feature  Missing Value (%)\n",
       "Unnamed: 0        Unnamed: 0           0.000000\n",
       "date_time          date_time           0.000000\n",
       "event_name        event_name           0.000000\n",
       "level                  level           0.000000\n",
       "user                    user           0.000000\n",
       "day_diff            day_diff           0.000000\n",
       "day0                    day0           0.000000\n",
       "mode_game          mode_game           0.000000\n",
       "win                      win          69.474229\n",
       "reason_to_die  reason_to_die          85.292710\n",
       "quantity            quantity           0.000000\n",
       "version              version           0.000000"
      ]
     },
     "execution_count": 10,
     "metadata": {},
     "output_type": "execute_result"
    }
   ],
   "source": [
    "# The percentage of missing values for each feature\n",
    "missing_values = df.isnull().sum()\n",
    "total_values = df.shape[0]\n",
    "missing_percentages = (missing_values / total_values) * 100\n",
    "missing_value = pd.DataFrame({'Feature': missing_values.index, 'Missing Value (%)': missing_percentages})\n",
    "missing_value"
   ]
  },
  {
   "cell_type": "code",
   "execution_count": 11,
   "metadata": {},
   "outputs": [
    {
     "name": "stdout",
     "output_type": "stream",
     "text": [
      "Number of NaN values:\t 1235554\n"
     ]
    }
   ],
   "source": [
    "print(\"Number of NaN values:\\t\", df.isna().sum().sum())"
   ]
  },
  {
   "cell_type": "markdown",
   "metadata": {},
   "source": [
    "# Data preprocessing"
   ]
  },
  {
   "cell_type": "code",
   "execution_count": 12,
   "metadata": {},
   "outputs": [],
   "source": [
    "df['date_time'] = pd.to_datetime(df['date_time'])"
   ]
  },
  {
   "cell_type": "code",
   "execution_count": 13,
   "metadata": {},
   "outputs": [],
   "source": [
    "data_v1_5_2 = df[df['version'] == '1.5.2']\n",
    "data_v1_6_0 = df[df['version'] == '1.6.0']"
   ]
  },
  {
   "cell_type": "markdown",
   "metadata": {},
   "source": [
    "# Question"
   ]
  },
  {
   "cell_type": "markdown",
   "metadata": {},
   "source": [
    "1. How can we know if the improvement of Tutorial in-game version 1.6.0 has impacted the User Experience better than in-game\n",
    "version 1.5.2?"
   ]
  },
  {
   "cell_type": "code",
   "execution_count": 14,
   "metadata": {},
   "outputs": [
    {
     "name": "stdout",
     "output_type": "stream",
     "text": [
      "Win Rate for users who skipped the tutorial in Version 1.5.2: 61.26%\n",
      "Win Rate for users who skipped the tutorial in Version 1.6.0: 58.42%\n"
     ]
    }
   ],
   "source": [
    "skipped_tutorial_users = df[(df['event_name'].str.contains(\"tutorial\")) & (df['quantity'] == 0)]['user'].unique()\n",
    "\n",
    "skipped_win_data = df[(df['user'].isin(skipped_tutorial_users)) & (df['event_name'] == 'game_end')]\n",
    "\n",
    "win_rate_v1_5_2 = (skipped_win_data[skipped_win_data['version'] == '1.5.2']['win']).mean()\n",
    "win_rate_v1_6_0 = (skipped_win_data[skipped_win_data['version'] == '1.6.0']['win']).mean()\n",
    "\n",
    "print(f\"Win Rate for users who skipped the tutorial in Version 1.5.2: {win_rate_v1_5_2:.2%}\")\n",
    "print(f\"Win Rate for users who skipped the tutorial in Version 1.6.0: {win_rate_v1_6_0:.2%}\")"
   ]
  },
  {
   "cell_type": "code",
   "execution_count": 15,
   "metadata": {},
   "outputs": [
    {
     "name": "stderr",
     "output_type": "stream",
     "text": [
      "C:\\Users\\Tuan Kiet\\AppData\\Local\\Temp\\ipykernel_12308\\4199515728.py:3: SettingWithCopyWarning: \n",
      "A value is trying to be set on a copy of a slice from a DataFrame.\n",
      "Try using .loc[row_indexer,col_indexer] = value instead\n",
      "\n",
      "See the caveats in the documentation: https://pandas.pydata.org/pandas-docs/stable/user_guide/indexing.html#returning-a-view-versus-a-copy\n",
      "  tutorial_data['tutorial_status'] = tutorial_data['quantity'].map({\n"
     ]
    },
    {
     "data": {
      "text/html": [
       "<div>\n",
       "<style scoped>\n",
       "    .dataframe tbody tr th:only-of-type {\n",
       "        vertical-align: middle;\n",
       "    }\n",
       "\n",
       "    .dataframe tbody tr th {\n",
       "        vertical-align: top;\n",
       "    }\n",
       "\n",
       "    .dataframe thead th {\n",
       "        text-align: right;\n",
       "    }\n",
       "</style>\n",
       "<table border=\"1\" class=\"dataframe\">\n",
       "  <thead>\n",
       "    <tr style=\"text-align: right;\">\n",
       "      <th>tutorial_status</th>\n",
       "      <th>complete</th>\n",
       "      <th>skip</th>\n",
       "      <th>start</th>\n",
       "      <th>step_1</th>\n",
       "      <th>step_2</th>\n",
       "      <th>step_3</th>\n",
       "      <th>step_4</th>\n",
       "      <th>completion_rate</th>\n",
       "      <th>skip_rate</th>\n",
       "    </tr>\n",
       "    <tr>\n",
       "      <th>version</th>\n",
       "      <th></th>\n",
       "      <th></th>\n",
       "      <th></th>\n",
       "      <th></th>\n",
       "      <th></th>\n",
       "      <th></th>\n",
       "      <th></th>\n",
       "      <th></th>\n",
       "      <th></th>\n",
       "    </tr>\n",
       "  </thead>\n",
       "  <tbody>\n",
       "    <tr>\n",
       "      <th>1.5.2</th>\n",
       "      <td>6341</td>\n",
       "      <td>336</td>\n",
       "      <td>6626</td>\n",
       "      <td>6465</td>\n",
       "      <td>6395</td>\n",
       "      <td>6372</td>\n",
       "      <td>6350</td>\n",
       "      <td>0.956988</td>\n",
       "      <td>0.048262</td>\n",
       "    </tr>\n",
       "    <tr>\n",
       "      <th>1.6.0</th>\n",
       "      <td>6571</td>\n",
       "      <td>356</td>\n",
       "      <td>6855</td>\n",
       "      <td>6686</td>\n",
       "      <td>6630</td>\n",
       "      <td>6612</td>\n",
       "      <td>6601</td>\n",
       "      <td>0.958570</td>\n",
       "      <td>0.049369</td>\n",
       "    </tr>\n",
       "  </tbody>\n",
       "</table>\n",
       "</div>"
      ],
      "text/plain": [
       "tutorial_status  complete  skip  start  step_1  step_2  step_3  step_4  \\\n",
       "version                                                                  \n",
       "1.5.2                6341   336   6626    6465    6395    6372    6350   \n",
       "1.6.0                6571   356   6855    6686    6630    6612    6601   \n",
       "\n",
       "tutorial_status  completion_rate  skip_rate  \n",
       "version                                      \n",
       "1.5.2                   0.956988   0.048262  \n",
       "1.6.0                   0.958570   0.049369  "
      ]
     },
     "execution_count": 15,
     "metadata": {},
     "output_type": "execute_result"
    }
   ],
   "source": [
    "tutorial_data = df[df['event_name'].str.contains(\"tutorial\")]\n",
    "\n",
    "tutorial_data['tutorial_status'] = tutorial_data['quantity'].map({\n",
    "    -2: 'complete',\n",
    "    -1: 'start',\n",
    "    0: 'skip',\n",
    "    1: 'step_1',\n",
    "    2: 'step_2',\n",
    "    3: 'step_3',\n",
    "    4: 'step_4'  # Assume there are up to 4 steps, can adjust based on max step observed\n",
    "})\n",
    "\n",
    "tutorial_metrics = tutorial_data.groupby(['version', 'tutorial_status'])['user'].nunique().unstack().fillna(0)\n",
    "\n",
    "tutorial_metrics['completion_rate'] = tutorial_metrics['complete'] / tutorial_metrics['start']\n",
    "tutorial_metrics['skip_rate'] = tutorial_metrics['skip'] / (tutorial_metrics['start'] + tutorial_metrics['skip'])\n",
    "\n",
    "tutorial_metrics\n"
   ]
  },
  {
   "cell_type": "code",
   "execution_count": 16,
   "metadata": {},
   "outputs": [
    {
     "name": "stdout",
     "output_type": "stream",
     "text": [
      "             Metric  Version 1.5.2  Version 1.6.0\n",
      "Completed Tutorials    6497.000000    6712.000000\n",
      "  Started Tutorials    6988.000000    7224.000000\n",
      "    Completion Rate       0.929737       0.929125\n"
     ]
    }
   ],
   "source": [
    "completed_tutorial_v1_5_2 = df[(df['version'] == '1.5.2') & (df['event_name'] == 'tutorial') & (df['quantity'] == -2)]\n",
    "started_tutorial_v1_5_2 = df[(df['version'] == '1.5.2') & (df['event_name'] == 'tutorial') & (df['quantity'] == -1)]\n",
    "completion_rate_v1_5_2 = len(completed_tutorial_v1_5_2) / len(started_tutorial_v1_5_2) if len(started_tutorial_v1_5_2) > 0 else 0\n",
    "\n",
    "completed_tutorial_v1_6_0 = df[(df['version'] == '1.6.0') & (df['event_name'] == 'tutorial') & (df['quantity'] == -2)]\n",
    "started_tutorial_v1_6_0 = df[(df['version'] == '1.6.0') & (df['event_name'] == 'tutorial') & (df['quantity'] == -1)]\n",
    "completion_rate_v1_6_0 = len(completed_tutorial_v1_6_0) / len(started_tutorial_v1_6_0) if len(started_tutorial_v1_6_0) > 0 else 0\n",
    "\n",
    "tutorial_analysis_data = {\n",
    "    \"Metric\": [\"Completed Tutorials\", \"Started Tutorials\", \"Completion Rate\"],\n",
    "    \"Version 1.5.2\": [\n",
    "        len(completed_tutorial_v1_5_2), \n",
    "        len(started_tutorial_v1_5_2), \n",
    "        completion_rate_v1_5_2\n",
    "    ],\n",
    "    \"Version 1.6.0\": [\n",
    "        len(completed_tutorial_v1_6_0), \n",
    "        len(started_tutorial_v1_6_0), \n",
    "        completion_rate_v1_6_0\n",
    "    ]\n",
    "}\n",
    "\n",
    "tutorial_df = pd.DataFrame(tutorial_analysis_data)\n",
    "print(tutorial_df.to_string(index=False))"
   ]
  },
  {
   "cell_type": "code",
   "execution_count": 17,
   "metadata": {},
   "outputs": [
    {
     "name": "stdout",
     "output_type": "stream",
     "text": [
      "Win Rate After Tutorial in Version 1.5.2: 52.02%\n",
      "Win Rate After Tutorial in Version 1.6.0: 50.76%\n"
     ]
    }
   ],
   "source": [
    "users_completed_tutorial_v1_5_2 = completed_tutorial_v1_5_2['user'].unique()\n",
    "win_rate_after_tutorial_v1_5_2 = df[(df['user'].isin(users_completed_tutorial_v1_5_2)) & (df['event_name'] == 'game_end')]['win'].mean()\n",
    "\n",
    "users_completed_tutorial_v1_6_0 = completed_tutorial_v1_6_0['user'].unique()\n",
    "win_rate_after_tutorial_v1_6_0 = df[(df['user'].isin(users_completed_tutorial_v1_6_0)) & (df['event_name'] == 'game_end')]['win'].mean()\n",
    "\n",
    "print(f\"Win Rate After Tutorial in Version 1.5.2: {win_rate_after_tutorial_v1_5_2:.2%}\")\n",
    "print(f\"Win Rate After Tutorial in Version 1.6.0: {win_rate_after_tutorial_v1_6_0:.2%}\")"
   ]
  },
  {
   "cell_type": "code",
   "execution_count": 18,
   "metadata": {},
   "outputs": [
    {
     "data": {
      "image/png": "[encoded data removed]",
      "text/plain": [
       "<Figure size 1800x600 with 1 Axes>"
      ]
     },
     "metadata": {},
     "output_type": "display_data"
    }
   ],
   "source": [
    "activity_over_time = df.groupby([df['date_time'].dt.date, 'version']).size().unstack()\n",
    "\n",
    "activity_over_time.plot(kind='line', figsize=(18, 6))\n",
    "plt.title('User Activity Over Time')\n",
    "plt.xlabel('Date')\n",
    "plt.ylabel('Number of Activities')\n",
    "plt.legend(title='Game Version')\n",
    "plt.show()"
   ]
  },
  {
   "cell_type": "code",
   "execution_count": 19,
   "metadata": {},
   "outputs": [
    {
     "data": {
      "image/png": "[encoded data removed]",
      "text/plain": [
       "<Figure size 1000x600 with 1 Axes>"
      ]
     },
     "metadata": {},
     "output_type": "display_data"
    }
   ],
   "source": [
    "tutorial_data = df[df['event_name'] == 'tutorial']\n",
    "\n",
    "completed_tutorial = tutorial_data[tutorial_data['quantity'] == -2]\n",
    "\n",
    "completion_counts = completed_tutorial.groupby('version').size()\n",
    "non_completion_counts = tutorial_data.groupby('version').size() - completion_counts\n",
    "\n",
    "completion_df = pd.DataFrame({\n",
    "    'Completed': completion_counts,\n",
    "    'Not Completed': non_completion_counts\n",
    "}).fillna(0)\n",
    "\n",
    "completion_df.plot(kind='bar', stacked=False, figsize=(10, 6), color=['green', 'red'])\n",
    "plt.title('Tutorial Completion Rate by Game Version')\n",
    "plt.xlabel('Game Version')\n",
    "plt.ylabel('Number of Users')\n",
    "plt.legend(title='Tutorial Completion Status')\n",
    "plt.grid(axis='y')\n",
    "plt.show()"
   ]
  },
  {
   "cell_type": "markdown",
   "metadata": {},
   "source": [
    "## Question 1"
   ]
  },
  {
   "cell_type": "markdown",
   "metadata": {},
   "source": [
    "* Analyze the win rates of users who complete the tutorial in each version. An decrease in win rate among those who completed the tutorial in version 1.6.0 (52.02% to 50.76%) would indicate a more ineffective tutorial.\n",
    "\n",
    "* However, the win rate of users skipping tutorial of version 1.5.2 is greater than version 1.6.0 (61.26% - 58.42%)."
   ]
  },
  {
   "cell_type": "markdown",
   "metadata": {},
   "source": [
    "2. . Can we roll out 100% game version 1.6.0 to all users or not? Why? (Analyze and evaluate the 2 versions)."
   ]
  },
  {
   "cell_type": "code",
   "execution_count": 20,
   "metadata": {},
   "outputs": [
    {
     "name": "stdout",
     "output_type": "stream",
     "text": [
      "                Metric  Version 1.5.2  Version 1.6.0\n",
      "              Win Rate       0.526497       0.511107\n",
      "     Average Max Level       9.414780      10.321691\n",
      "Average Retention Days       0.981562       1.246789\n"
     ]
    }
   ],
   "source": [
    "win_rate_v1_5_2 = data_v1_5_2['win'].dropna().mean()\n",
    "win_rate_v1_6_0 = data_v1_6_0['win'].dropna().mean()\n",
    "\n",
    "level_progression_v1_5_2 = data_v1_5_2.groupby('user')['level'].max()\n",
    "level_progression_v1_6_0 = data_v1_6_0.groupby('user')['level'].max()\n",
    "\n",
    "retention_v1_5_2 = data_v1_5_2.groupby('user')['day_diff'].max()\n",
    "retention_v1_6_0 = data_v1_6_0.groupby('user')['day_diff'].max()\n",
    "\n",
    "results = {\n",
    "    'Metric': ['Win Rate', 'Average Max Level', 'Average Retention Days'],\n",
    "    'Version 1.5.2': [win_rate_v1_5_2, level_progression_v1_5_2.mean(), retention_v1_5_2.mean()],\n",
    "    'Version 1.6.0': [win_rate_v1_6_0, level_progression_v1_6_0.mean(), retention_v1_6_0.mean()]\n",
    "}\n",
    "\n",
    "results_df = pd.DataFrame(results)\n",
    "\n",
    "print(results_df.to_string(index=False))"
   ]
  },
  {
   "cell_type": "code",
   "execution_count": 21,
   "metadata": {},
   "outputs": [
    {
     "data": {
      "image/png": "[encoded data removed]",
      "text/plain": [
       "<Figure size 1000x600 with 1 Axes>"
      ]
     },
     "metadata": {},
     "output_type": "display_data"
    }
   ],
   "source": [
    "game_end_data = df[df['event_name'] == 'game_end']\n",
    "\n",
    "win_loss_counts = game_end_data.groupby(['version', 'win']).size().unstack(fill_value=0)\n",
    "\n",
    "win_loss_counts.plot(kind='bar', stacked=False, figsize=(10, 6), color=['red', 'blue'])\n",
    "plt.title('Win/Loss Ratio by Game Version')\n",
    "plt.xlabel('Game Version')\n",
    "plt.ylabel('Number of Games')\n",
    "plt.legend(['Loss', 'Win'], title='Game Outcome')\n",
    "plt.show()"
   ]
  },
  {
   "cell_type": "markdown",
   "metadata": {},
   "source": [
    "## Question 2"
   ]
  },
  {
   "cell_type": "markdown",
   "metadata": {},
   "source": [
    "* It can be seen that the statistical comparison of win rates between the two versions is nearly identical, with only a [1%] difference. There's a slight decrease in the win rate in version 1.6.0 compared to 1.5.2. This could be an indicator of increased game difficulty or adjustments in the game mechanics that might not be wholly favorable.\n",
    "\n",
    "* Players reach higher levels on average in version 1.6.0, suggesting that they are engaged enough to progress further in the game, which could be a result of improved tutorial guidance or game design that better facilitates player progression.\n",
    "\n",
    "* There's a noticeable increase in retention days in version 1.6.0, indicating that players are sticking with the game longer. This is a strong positive signal suggesting that the new version is more engaging or compelling.\n",
    "\n",
    "***Before a full rollout, consider conducting a segmented analysis of different user groups (e.g., new vs. returning players) to see if there are varying impacts that might require tailored adjustments. If feasible, continue running A/B tests to compare other outcomes between the versions. This can provide ongoing insights and help in tweaking game mechanics to optimize user experience further.***"
   ]
  },
  {
   "cell_type": "markdown",
   "metadata": {},
   "source": [
    "## Question 3"
   ]
  },
  {
   "cell_type": "markdown",
   "metadata": {},
   "source": [
    "3. Based on the data and your experience with the game, do you have any ideas to improve our User Experience? Explain it in detail\n",
    "(image, text, diagram, logic, game mechanics,...)"
   ]
  },
  {
   "cell_type": "markdown",
   "metadata": {},
   "source": [
    "* Customizable Avatars and Interfaces: I believe we should allow users to upload their own images to use as their in-game avatars. This could help them feel more invested in the experience and potentially increase their retention rates.\n",
    "\n",
    "* When I try to play, there are a lot of ads that pop up, which can be frustrating. Perhaps we could decrease the number of ads shown to improve player satisfaction and the overall gaming experience. I also checked the reviews of users on Google Play, and they complain a lot about the ads. To address this, I think we should consider adjusting the ad duration from 30 seconds to 15 seconds to create a less disruptive experience for players.\n",
    "\n",
    "* Enhanced Social Features: Develop more robust social features, such as guilds, teams, and social challenges that encourage interaction. Integrate these features with social media to enhance community feeling.\n",
    "\n",
    "* Live Events: Regularly schedule live events or competitions that encourage players to engage at specific times, increasing community interaction and game longevity.\n",
    "\n",
    "<b>Implement a step-by-step hint system:</b>\n",
    "\n",
    "1. Identify the Next Logical Step:\n",
    "\n",
    "* Analyze the current state of the puzzle to find the next logical move that the player can make based on the existing numbers and filled cells.\n",
    "\n",
    "2. Provide Incremental Hints:\n",
    "\n",
    "* Start by highlighting the row or column where a logical move is possible.\n",
    "* Offer further hints by indicating specific cells that can be filled or marked with an X.\n",
    "\n",
    "3. Explain the Logic:\n",
    "\n",
    "* Accompany the hint with a brief explanation of the logic behind the move, helping players understand the reasoning process."
   ]
  }
 ],
 "metadata": {
  "kernelspec": {
   "display_name": "myenv",
   "language": "python",
   "name": "python3"
  },
  "language_info": {
   "codemirror_mode": {
    "name": "ipython",
    "version": 3
   },
   "file_extension": ".py",
   "mimetype": "text/x-python",
   "name": "python",
   "nbconvert_exporter": "python",
   "pygments_lexer": "ipython3",
   "version": "3.10.13"
  }
 },
 "nbformat": 4,
 "nbformat_minor": 2
}
